{
 "cells": [
  {
   "cell_type": "code",
   "execution_count": 95,
   "id": "8ae7259c",
   "metadata": {
    "extensions": {
     "jupyter_dashboards": {
      "version": 1,
      "views": {
       "default_view": {
        "hidden": true
       }
      }
     }
    }
   },
   "outputs": [],
   "source": [
    "# !pip install voila"
   ]
  },
  {
   "cell_type": "markdown",
   "id": "1decb2a3",
   "metadata": {
    "extensions": {
     "jupyter_dashboards": {
      "version": 1,
      "views": {
       "default_view": {
        "col": 0,
        "height": 4,
        "row": 0,
        "width": 12
       }
      }
     }
    }
   },
   "source": [
    "<center><img src=\"formula-1-logo-5-3.png\" width=\"400\"/></center>"
   ]
  },
  {
   "cell_type": "markdown",
   "id": "48b23024",
   "metadata": {
    "extensions": {
     "jupyter_dashboards": {
      "version": 1,
      "views": {
       "default_view": {
        "col": 0,
        "height": 11,
        "row": 4,
        "width": 12
       }
      }
     }
    }
   },
   "source": [
    " <center><img src=\"keyart_crushed.png\"  width=\"500\"/></center>"
   ]
  },
  {
   "cell_type": "code",
   "execution_count": 96,
   "id": "a34c7d2e",
   "metadata": {
    "extensions": {
     "jupyter_dashboards": {
      "version": 1,
      "views": {
       "default_view": {
        "hidden": true
       }
      }
     }
    }
   },
   "outputs": [],
   "source": [
    "import os\n",
    "import numpy as np\n",
    "import pandas as pd\n",
    "import matplotlib.pyplot as plt\n",
    "from datetime import datetime\n",
    "\n",
    "import folium\n",
    "import folium.plugins as plg\n",
    "from matplotlib.offsetbox import OffsetImage, AnnotationBbox\n",
    "from IPython.display import display\n",
    "\n",
    "import warnings\n",
    "warnings.filterwarnings(\"ignore\")\n",
    "\n",
    "data_path = \"./data\""
   ]
  },
  {
   "cell_type": "code",
   "execution_count": 97,
   "id": "d7bd6096",
   "metadata": {
    "extensions": {
     "jupyter_dashboards": {
      "version": 1,
      "views": {
       "default_view": {
        "hidden": true
       }
      }
     }
    }
   },
   "outputs": [],
   "source": [
    "# List all available data files\n",
    "# for file in os.listdir(data_path):\n",
    "#     print(file)"
   ]
  },
  {
   "cell_type": "code",
   "execution_count": 98,
   "id": "03eae80f",
   "metadata": {
    "extensions": {
     "jupyter_dashboards": {
      "version": 1,
      "views": {
       "default_view": {
        "hidden": true
       }
      }
     }
    }
   },
   "outputs": [],
   "source": [
    "# Dataset Exploration\n",
    "# List all the columns in each file\n",
    "\n",
    "files_and_columns = {}\n",
    "for file in os.listdir(data_path):\n",
    "    df = pd.read_csv(os.path.join(data_path, file))\n",
    "    files_and_columns[file] = list(df.columns)"
   ]
  },
  {
   "cell_type": "code",
   "execution_count": 99,
   "id": "cc466631",
   "metadata": {
    "extensions": {
     "jupyter_dashboards": {
      "version": 1,
      "views": {
       "default_view": {
        "hidden": true
       }
      }
     }
    }
   },
   "outputs": [],
   "source": [
    "df_status = pd.read_csv(os.path.join(data_path, \"status.csv\"))\n",
    "df_laptimes = pd.read_csv(os.path.join(data_path, \"lap_times.csv\"))\n",
    "df_drivers = pd.read_csv(os.path.join(data_path, \"drivers.csv\"))\n",
    "df_races = pd.read_csv(os.path.join(data_path, \"races.csv\"))\n",
    "df_standings = pd.read_csv(os.path.join(data_path, \"driver_standings.csv\"))\n",
    "df_circuits = pd.read_csv(os.path.join(data_path, \"circuits.csv\"))"
   ]
  },
  {
   "cell_type": "code",
   "execution_count": 100,
   "id": "0fc8af30",
   "metadata": {
    "extensions": {
     "jupyter_dashboards": {
      "version": 1,
      "views": {
       "default_view": {
        "hidden": true
       }
      }
     }
    }
   },
   "outputs": [],
   "source": [
    "# make a column with driver full name (merge first and last name)\n",
    "df_drivers[\"full_name\"] = \"\"\n",
    "\n",
    "for i in df_drivers.index:\n",
    "    df_drivers.loc[i, \"full_name\"] =  df_drivers.loc[i, \"forename\"] + \" \" + df_drivers.loc[i, \"surname\"]"
   ]
  },
  {
   "cell_type": "code",
   "execution_count": 101,
   "id": "dd98de45",
   "metadata": {
    "extensions": {
     "jupyter_dashboards": {
      "version": 1,
      "views": {
       "default_view": {
        "hidden": true
       }
      }
     }
    }
   },
   "outputs": [],
   "source": [
    "# merge full name with lap times according to driver id\n",
    "df_drivernames = df_drivers[[\"driverId\", \"full_name\"]]\n",
    "df_laptimes = df_laptimes.merge(df_drivernames, on=\"driverId\")"
   ]
  },
  {
   "cell_type": "code",
   "execution_count": 102,
   "id": "3f361233",
   "metadata": {
    "extensions": {
     "jupyter_dashboards": {
      "version": 1,
      "views": {
       "default_view": {
        "hidden": true
       }
      }
     }
    }
   },
   "outputs": [],
   "source": [
    "# merge race names with lap times according to race id\n",
    "df_laptimes = df_laptimes.merge(df_races[[\"raceId\", \"name\", \"year\"]], on=\"raceId\")"
   ]
  },
  {
   "cell_type": "code",
   "execution_count": 103,
   "id": "4196638e",
   "metadata": {
    "extensions": {
     "jupyter_dashboards": {
      "version": 1,
      "views": {
       "default_view": {
        "hidden": true
       }
      }
     }
    }
   },
   "outputs": [],
   "source": [
    "# make ipywidgets - select year, race and driver\n",
    "#using ipywidgets\n",
    "import ipywidgets as widgets\n",
    "from ipywidgets import interact, interactive, fixed, interact_manual"
   ]
  },
  {
   "cell_type": "code",
   "execution_count": 104,
   "id": "7f4f9b5e",
   "metadata": {
    "extensions": {
     "jupyter_dashboards": {
      "version": 1,
      "views": {
       "default_view": {
        "hidden": true
       }
      }
     }
    }
   },
   "outputs": [],
   "source": [
    "df_races_copy = df_races.merge(df_circuits[[\"circuitId\", \"name\", \"location\", \"country\", \"lat\", \"lng\"]], on=\"circuitId\")\n",
    "df_races_copy.rename(columns={'name_y': \"circuit_name\", \"name_x\": \"race_name\"}, inplace=True)"
   ]
  },
  {
   "cell_type": "markdown",
   "id": "b059bfb8",
   "metadata": {
    "extensions": {
     "jupyter_dashboards": {
      "version": 1,
      "views": {
       "default_view": {
        "col": 0,
        "height": 3,
        "row": 15,
        "width": 12
       }
      }
     }
    }
   },
   "source": [
    "<center><span style=\"font-family:verdana; font-size:25px\">Where are the races held?</span></center>\n",
    "\n",
    "<p><center><span style=\"font-family:georgia; font-size:15px\">Select a year and see where races were held that year! Hover over the pins for more information. </span></center></p>\n"
   ]
  },
  {
   "cell_type": "code",
   "execution_count": 105,
   "id": "0f3f5583",
   "metadata": {
    "extensions": {
     "jupyter_dashboards": {
      "version": 1,
      "views": {
       "default_view": {
        "col": 0,
        "height": 24,
        "row": 18,
        "width": 12
       }
      }
     }
    }
   },
   "outputs": [
    {
     "data": {
      "application/vnd.jupyter.widget-view+json": {
       "model_id": "f8dbeee82e51464d9dcb263e2543c687",
       "version_major": 2,
       "version_minor": 0
      },
      "text/plain": [
       "interactive(children=(Dropdown(description='Year', options=(1950, 1951, 1952, 1953, 1954, 1955, 1956, 1957, 19…"
      ]
     },
     "metadata": {},
     "output_type": "display_data"
    }
   ],
   "source": [
    "@widgets.interact(Year = df_races_copy['year'].sort_values().unique())\n",
    "def choose_year(Year):\n",
    "    df_races_year = df_races_copy[df_races_copy['year'] == Year]\n",
    "    \n",
    "    circuits_map = folium.Map(zoom_start=13)\n",
    "    map_cluster = plg.MarkerCluster().add_to(circuits_map)\n",
    "    for idx, row in df_races_year.iterrows():\n",
    "        folium.Marker(\n",
    "            location=[row['lat'], row['lng']],\n",
    "            icon=folium.Icon(color='cadetblue', prefix='fa'),\n",
    "            tooltip=[\"Circuit Name: \", row['circuit_name'], \"\\nRace date: \", row['date'], \"\\nLocation: \", row['location'], \n",
    "                     \"\\nCountry\", row['country']]\n",
    "            ).add_to(map_cluster)\n",
    "\n",
    "    display(circuits_map)"
   ]
  },
  {
   "cell_type": "markdown",
   "id": "cbf6de4e",
   "metadata": {
    "extensions": {
     "jupyter_dashboards": {
      "version": 1,
      "views": {
       "default_view": {
        "col": 0,
        "height": 6,
        "row": 63,
        "width": 6
       }
      }
     }
    }
   },
   "source": [
    "<center><span style=\"font-family:verdana; font-size:25px\">Race Statistics</span></center>\n",
    "\n",
    "<p><center><span style=\"font-family:georgia; font-size:15px\">In any F1 race, lap times and position in the race are really important. The faster you go, the more positions you gain. </span></center></p>\n",
    "\n",
    "<p><center><span style=\"font-family:georgia; font-size:15px\">The first graph gives us a trend of lap times as the laps progress in a race and the second graph gives us a trend of position in the race as the laps progress</span></center></p>\n",
    "\n",
    "<p><center><span style=\"font-family:georgia; font-size:15px\">Select a year, the race and the driver you want to see lap times for!</span></center></p>\n"
   ]
  },
  {
   "cell_type": "code",
   "execution_count": 106,
   "id": "23d5d15c",
   "metadata": {
    "extensions": {
     "jupyter_dashboards": {
      "version": 1,
      "views": {
       "default_view": {
        "hidden": true
       }
      }
     }
    }
   },
   "outputs": [],
   "source": [
    "#df_races = pd.read_csv(os.path.join(data_path, \"races.csv\"))"
   ]
  },
  {
   "cell_type": "code",
   "execution_count": 107,
   "id": "0ce3c442",
   "metadata": {
    "extensions": {
     "jupyter_dashboards": {
      "version": 1,
      "views": {
       "default_view": {
        "hidden": true
       }
      }
     }
    }
   },
   "outputs": [],
   "source": [
    "# select race\n",
    "def select_race(df_year, race, driver):\n",
    "    df_race_year = df_year[df_year['name'] == race]\n",
    "    df_race_year_driver = df_race_year[df_race_year['full_name'] == driver]\n",
    "    \n",
    "    df_race_year_driver[\"timestamp\"] = df_race_year_driver[\"time\"].apply(lambda x: datetime.strptime(x, '%M:%S.%f'))\n",
    "    fig, axs = plt.subplots(2,1)\n",
    "    axs[0].plot(df_race_year_driver[\"lap\"], df_race_year_driver[\"timestamp\"])\n",
    "    axs[0].set_xlabel(\"LAP NUMBER\")\n",
    "    axs[0].set_ylabel(\"LAP TIME\")\n",
    "    axs[1].plot(df_race_year_driver[\"lap\"], df_race_year_driver[\"position\"])\n",
    "    axs[1].set_xlabel(\"LAP NUMBER\")\n",
    "    axs[1].set_ylabel(\"POSITION\");"
   ]
  },
  {
   "cell_type": "code",
   "execution_count": 108,
   "id": "895777ac",
   "metadata": {
    "extensions": {
     "jupyter_dashboards": {
      "version": 1,
      "views": {
       "default_view": {
        "col": 0,
        "height": 19,
        "row": 69,
        "width": 6
       }
      }
     }
    },
    "scrolled": true
   },
   "outputs": [
    {
     "data": {
      "application/vnd.jupyter.widget-view+json": {
       "model_id": "e3136292a93f4d3a805db29fbf144ea6",
       "version_major": 2,
       "version_minor": 0
      },
      "text/plain": [
       "interactive(children=(Dropdown(description='Year', options=(1996, 1997, 1998, 1999, 2000, 2001, 2002, 2003, 20…"
      ]
     },
     "metadata": {},
     "output_type": "display_data"
    }
   ],
   "source": [
    "@widgets.interact(Year = df_laptimes['year'].sort_values().unique())\n",
    "def choose_year(Year):\n",
    "    df_laptimes_year = df_laptimes[df_laptimes['year'] == Year]\n",
    "    \n",
    "    # select race\n",
    "    df_race_year = interactive(select_race, df_year = fixed(df_laptimes_year), race=df_laptimes_year['name'].unique(),\n",
    "                              driver=df_laptimes_year['full_name'].unique())\n",
    "    display(df_race_year)"
   ]
  },
  {
   "cell_type": "code",
   "execution_count": 109,
   "id": "bc831587",
   "metadata": {
    "extensions": {
     "jupyter_dashboards": {
      "version": 1,
      "views": {
       "default_view": {
        "hidden": true
       }
      }
     }
    }
   },
   "outputs": [],
   "source": [
    "# this merging gives us a dataset with info about the driver (name), race (name) and the points scored \n",
    "df_standings = df_standings.merge(df_drivernames, on=\"driverId\")\n",
    "df_standings = df_standings.merge(df_races[[\"raceId\", \"name\", \"year\"]], on=\"raceId\")"
   ]
  },
  {
   "cell_type": "markdown",
   "id": "f50e4c23",
   "metadata": {
    "extensions": {
     "jupyter_dashboards": {
      "version": 1,
      "views": {
       "default_view": {
        "col": 6,
        "height": 6,
        "row": 63,
        "width": 6
       }
      }
     }
    }
   },
   "source": [
    "<center><span style=\"font-family:verdana; font-size:25px\">Driver Statistics</span></center>\n",
    "\n",
    "<p><center><span style=\"font-family:georgia; font-size:15px\">Want to see how your favorite driver has performed during a given season?</span></center></p>\n",
    "\n",
    "<p><center><span style=\"font-family:georgia; font-size:15px\">Select a year and a driver of your choice to see how they did!</span></center></p>\n",
    "\n",
    "<p><center><span style=\"font-family:georgia; font-size:15px\">The graph gives us the trend of how the driver performed during a given season - did they go up the points board or did they not do so well? </span></center></p>\n",
    "\n",
    "\n"
   ]
  },
  {
   "cell_type": "code",
   "execution_count": 110,
   "id": "86339088",
   "metadata": {
    "extensions": {
     "jupyter_dashboards": {
      "version": 1,
      "views": {
       "default_view": {
        "hidden": true
       }
      }
     }
    }
   },
   "outputs": [],
   "source": [
    "global year\n",
    "def select_racer(df_standings_year, racer):\n",
    "    df_racer_year = df_standings_year[df_standings_year['full_name']==racer]\n",
    "    \n",
    "    df_racer_year.sort_values(by=\"raceId\", inplace=True)\n",
    "    \n",
    "    global year \n",
    "    \n",
    "    fig, ax = plt.subplots(dpi=100)\n",
    "    ax.plot(df_racer_year['raceId'], df_racer_year['points'])\n",
    "    ax.set_xticks(df_racer_year['raceId'])\n",
    "    ax.set_xticklabels(df_racer_year['name'], rotation=90);\n",
    "    ax.set_xlabel(\"Race Name\")\n",
    "    ax.set_ylabel(\"Season Points\");\n",
    "    ax.set_title(\"{} Season Progress- {}\".format(str(year), racer));"
   ]
  },
  {
   "cell_type": "code",
   "execution_count": 111,
   "id": "5678c218",
   "metadata": {
    "extensions": {
     "jupyter_dashboards": {
      "version": 1,
      "views": {
       "default_view": {
        "col": 6,
        "height": 19,
        "row": 69,
        "width": 6
       }
      }
     }
    },
    "scrolled": false
   },
   "outputs": [
    {
     "data": {
      "application/vnd.jupyter.widget-view+json": {
       "model_id": "2c4078c378c547899a29daa361a5fa30",
       "version_major": 2,
       "version_minor": 0
      },
      "text/plain": [
       "interactive(children=(Dropdown(description='Year', options=(1950, 1951, 1952, 1953, 1954, 1955, 1956, 1957, 19…"
      ]
     },
     "metadata": {},
     "output_type": "display_data"
    }
   ],
   "source": [
    "# making ipywidgets\n",
    "@widgets.interact(Year = df_standings['year'].sort_values().unique())\n",
    "def choose_year(Year):\n",
    "    df_standings_year = df_standings[df_standings['year'] == Year]\n",
    "    \n",
    "    global year\n",
    "    year = Year\n",
    "    # select racer\n",
    "    df_racer_year = interactive(select_racer, df_standings_year = fixed(df_standings_year), racer=df_standings_year['full_name'].unique())    \n",
    "    display(df_racer_year)"
   ]
  },
  {
   "cell_type": "markdown",
   "id": "f828484e",
   "metadata": {
    "extensions": {
     "jupyter_dashboards": {
      "version": 1,
      "views": {
       "default_view": {
        "col": 0,
        "height": 7,
        "row": 148,
        "width": 6
       }
      }
     }
    }
   },
   "source": [
    "<center><span style=\"font-family:verdana; font-size:25px\">Comparing Driver Performance</span></center>\n",
    "\n",
    "<p><center><span style=\"font-family:georgia; font-size:15px\">F1 points battles between drivers is something that could get exciting! </span></center></p>\n",
    "\n",
    "<p><center><span style=\"font-family:georgia; font-size:15px\">Select a year and a two drivers you wish to compare!</span></center></p>\n",
    "\n",
    "<p><center><span style=\"font-family:georgia; font-size:15px\">This graph compares the performance (here, the points gained during a given season) of two drivers. This gives us an overall view of driver performance and tells us who's doing better. </span></center></p>\n",
    "\n",
    "\n",
    "\n",
    "\n"
   ]
  },
  {
   "cell_type": "code",
   "execution_count": 112,
   "id": "9f3f3779",
   "metadata": {
    "extensions": {
     "jupyter_dashboards": {
      "version": 1,
      "views": {
       "default_view": {
        "hidden": true
       }
      }
     }
    }
   },
   "outputs": [],
   "source": [
    "def plot_versus(df_standings_year, driver_1, driver_2):\n",
    "    \n",
    "    df_standings_d1 = df_standings_year[df_standings_year['full_name'] == driver_1]\n",
    "    df_standings_d2 = df_standings_year[df_standings_year['full_name'] == driver_2]\n",
    "    \n",
    "    df_standings_d1.sort_values('raceId', inplace=True)\n",
    "    df_standings_d2.sort_values('raceId', inplace=True)\n",
    "    \n",
    "    fig, ax = plt.subplots(dpi=100)\n",
    "    ax.plot(df_standings_d1['raceId'], df_standings_d1['points'], label=driver_1)\n",
    "    ax.plot(df_standings_d2['raceId'], df_standings_d2['points'], label=driver_2)\n",
    "    ax.set_xticks(df_standings_d1['raceId'])\n",
    "    ax.set_xticklabels(df_standings_d1['name'], rotation=90)\n",
    "    ax.legend()\n",
    "    ax.set_xlabel(\"Race Name\")\n",
    "    ax.set_ylabel(\"Season Points\");"
   ]
  },
  {
   "cell_type": "code",
   "execution_count": 113,
   "id": "3beda658",
   "metadata": {
    "extensions": {
     "jupyter_dashboards": {
      "version": 1,
      "views": {
       "default_view": {
        "col": 0,
        "height": 20,
        "row": 155,
        "width": 6
       }
      }
     }
    }
   },
   "outputs": [
    {
     "data": {
      "application/vnd.jupyter.widget-view+json": {
       "model_id": "32599f45b9064e04a926091b720ddc55",
       "version_major": 2,
       "version_minor": 0
      },
      "text/plain": [
       "interactive(children=(Dropdown(description='Year', options=(1950, 1951, 1952, 1953, 1954, 1955, 1956, 1957, 19…"
      ]
     },
     "metadata": {},
     "output_type": "display_data"
    }
   ],
   "source": [
    "@widgets.interact(Year = df_standings['year'].sort_values().unique())\n",
    "def choose_year(Year):\n",
    "    df_standings_year = df_standings[df_standings['year'] == Year]\n",
    "            \n",
    "    drivers = interactive(plot_versus, df_standings_year=fixed(df_standings_year),\n",
    "                         driver_1=df_standings_year['full_name'].unique(),\n",
    "                         driver_2 = df_standings_year['full_name'].unique())\n",
    "    display(drivers)"
   ]
  },
  {
   "cell_type": "code",
   "execution_count": 114,
   "id": "d38b06b4",
   "metadata": {
    "extensions": {
     "jupyter_dashboards": {
      "version": 1,
      "views": {
       "default_view": {
        "hidden": true
       }
      }
     }
    }
   },
   "outputs": [],
   "source": [
    "df_constructors = pd.read_csv(os.path.join(data_path, \"constructors.csv\"))\n",
    "df_results = pd.read_csv(os.path.join(data_path, \"results.csv\"))"
   ]
  },
  {
   "cell_type": "code",
   "execution_count": 115,
   "id": "7034fc02",
   "metadata": {
    "extensions": {
     "jupyter_dashboards": {
      "version": 1,
      "views": {
       "default_view": {
        "hidden": true
       }
      }
     }
    }
   },
   "outputs": [],
   "source": [
    "df_results = df_results.merge(df_constructors[['constructorId', 'name']], on='constructorId') #constructors==teams\n",
    "df_results = df_results.merge(df_drivers[[\"driverId\", \"full_name\"]], on=\"driverId\") #associates driver id with a name\n",
    "df_results = df_results.merge(df_races[[\"raceId\", \"name\", \"year\"]], on=\"raceId\") # associates raceId with a race name and year\n",
    "df_results.rename(columns={\"name_x\": \"constructor_name\", \"name_y\": \"race_name\"}, inplace=True)"
   ]
  },
  {
   "cell_type": "code",
   "execution_count": 116,
   "id": "7a03e5f0",
   "metadata": {
    "extensions": {
     "jupyter_dashboards": {
      "version": 1,
      "views": {
       "default_view": {
        "hidden": true
       }
      }
     }
    }
   },
   "outputs": [],
   "source": [
    "for i in df_results.index:\n",
    "    if df_results.loc[i][\"race_name\"] == \"Qatar Grand Prix\" and df_results.loc[i][\"year\"] == 2021:\n",
    "        df_results.loc[i, \"raceId\"] = 1072"
   ]
  },
  {
   "cell_type": "code",
   "execution_count": 117,
   "id": "3c590cf6",
   "metadata": {
    "extensions": {
     "jupyter_dashboards": {
      "version": 1,
      "views": {
       "default_view": {
        "hidden": true
       }
      }
     }
    }
   },
   "outputs": [],
   "source": [
    "def plot_drivers(df_results_year, team):\n",
    "    \n",
    "    df_results_team = df_results_year[df_results_year['constructor_name'] == team]\n",
    "\n",
    "    \n",
    "    df_results_team = df_results_team.merge(df_standings[['raceId', 'driverId', 'points', 'year']], on=['raceId', 'driverId', 'year'])\n",
    "    df_results_team.rename(columns={'points_x': 'race_points', 'points_y': 'total_points'}, inplace=True)\n",
    "    \n",
    "    \n",
    "    df_results_team.sort_values(by='raceId')\n",
    "    \n",
    "    fig, ax = plt.subplots(dpi=100)\n",
    "    for driver in df_results_team['full_name'].unique():\n",
    "        df_driver_team = df_results_team[df_results_team['full_name'] == driver]\n",
    "        df_driver_team.sort_values(by=\"raceId\")\n",
    "        ax.plot(df_driver_team['raceId'], df_driver_team['total_points'], label=driver)\n",
    "\n",
    "    ax.set_xticks(df_results_team['raceId'])\n",
    "    ax.set_xticklabels(df_results_team['race_name'], rotation=90);\n",
    "    ax.set_xlabel(\"Race Name\")\n",
    "    ax.set_ylabel(\"Season Points\")\n",
    "    ax.legend()\n",
    "    # ax.set_title(\"2020 Season Progress- McLaren Drivers\");"
   ]
  },
  {
   "cell_type": "markdown",
   "id": "69dce71b",
   "metadata": {
    "extensions": {
     "jupyter_dashboards": {
      "version": 1,
      "views": {
       "default_view": {
        "col": 6,
        "height": 7,
        "row": 148,
        "width": 6
       }
      }
     }
    }
   },
   "source": [
    "<center><span style=\"font-family:verdana; font-size:25px\">Comparings Drivers In The Same Team</span></center>\n",
    "\n",
    "<p><center><span style=\"font-family:georgia; font-size:15px\">Let's say you have a favorite team, and you want to know which of the two drivers is performing better. Find out here! </span></center></p>\n",
    "\n",
    "<p><center><span style=\"font-family:georgia; font-size:15px\">Select a year and the team of your choice! </span></center></p>\n",
    "\n",
    "<p><center><span style=\"font-family:georgia; font-size:15px\">This graph compares the performance (here, the points gained during a given season) of two drivers in the same team. This gives us an overview of who's scoring more points for the team - crucial in deciding who stays and who leaves the next season. </span></center></p>"
   ]
  },
  {
   "cell_type": "code",
   "execution_count": 118,
   "id": "586f446e",
   "metadata": {
    "extensions": {
     "jupyter_dashboards": {
      "version": 1,
      "views": {
       "default_view": {
        "col": 6,
        "height": 20,
        "row": 155,
        "width": 6
       }
      }
     }
    }
   },
   "outputs": [
    {
     "data": {
      "application/vnd.jupyter.widget-view+json": {
       "model_id": "a2c83fb41cbd427f801d6a0fb19c1f09",
       "version_major": 2,
       "version_minor": 0
      },
      "text/plain": [
       "interactive(children=(Dropdown(description='Year', options=(2021, 2020, 2019, 2018, 2017, 2016, 2015, 2014, 20…"
      ]
     },
     "metadata": {},
     "output_type": "display_data"
    }
   ],
   "source": [
    "@widgets.interact(Year = df_results['year'].sort_values(ascending=False).unique())\n",
    "def choose_year(Year):\n",
    "    df_results_year = df_results[df_results['year'] == Year]\n",
    "            \n",
    "    drivers = interactive(plot_drivers, df_results_year=fixed(df_results_year),\n",
    "                            team = df_results_year['constructor_name'].unique())\n",
    "    display(drivers)"
   ]
  },
  {
   "cell_type": "code",
   "execution_count": 119,
   "id": "df817e07",
   "metadata": {
    "extensions": {
     "jupyter_dashboards": {
      "version": 1,
      "views": {
       "default_view": {
        "hidden": true
       }
      }
     }
    }
   },
   "outputs": [],
   "source": [
    "# analyzing the constructors results\n",
    "df_constructors_result = pd.read_csv(os.path.join(data_path, \"constructor_results.csv\"))\n",
    "df_constructors_standing = pd.read_csv(os.path.join(data_path, \"constructor_standings.csv\"))"
   ]
  },
  {
   "cell_type": "code",
   "execution_count": 120,
   "id": "c97a1ef2",
   "metadata": {
    "extensions": {
     "jupyter_dashboards": {
      "version": 1,
      "views": {
       "default_view": {
        "hidden": true
       }
      }
     }
    }
   },
   "outputs": [],
   "source": [
    "# use constructor standing\n",
    "# merge race name, constructor(team) name\n",
    "df_constructors_result = df_constructors_result.merge(df_constructors[['constructorId', 'name']], on='constructorId')\n",
    "df_constructors_result = df_constructors_result.merge(df_races[[\"raceId\", \"name\", \"year\"]], on=\"raceId\")"
   ]
  },
  {
   "cell_type": "code",
   "execution_count": 121,
   "id": "0194c233",
   "metadata": {
    "extensions": {
     "jupyter_dashboards": {
      "version": 1,
      "views": {
       "default_view": {
        "hidden": true
       }
      }
     }
    }
   },
   "outputs": [],
   "source": [
    "df_constructors_result.rename(columns={\"name_x\": \"constructor_name\", \"name_y\": \"race_name\"}, inplace=True)"
   ]
  },
  {
   "cell_type": "code",
   "execution_count": 122,
   "id": "667bd915",
   "metadata": {
    "extensions": {
     "jupyter_dashboards": {
      "version": 1,
      "views": {
       "default_view": {
        "hidden": true
       }
      }
     }
    }
   },
   "outputs": [],
   "source": [
    "def plot_teams(df_constructors_results_years, team):\n",
    "    df_team = df_constructors_results_years[df_constructors_results_years['constructor_name'] == team]\n",
    "    \n",
    "    df_team = df_team.groupby(\"year\")[\"points\"].sum()\n",
    "    \n",
    "    year = []\n",
    "    points = []\n",
    "    for k, v in df_team.items():\n",
    "        year.append(k)\n",
    "        points.append(v)\n",
    "        \n",
    "    plt.bar(year, points)\n",
    "    # plt.title(\"Ferrari's Performance 2016-2021\")\n",
    "    plt.xlabel(\"Year\")\n",
    "    plt.ylabel(\"Constructor Points\")\n",
    "    plt.xticks(year)"
   ]
  },
  {
   "cell_type": "markdown",
   "id": "8a8aa1ec",
   "metadata": {
    "extensions": {
     "jupyter_dashboards": {
      "version": 1,
      "views": {
       "default_view": {
        "col": 0,
        "height": 5,
        "row": 175,
        "width": 12
       }
      }
     }
    }
   },
   "source": [
    "<center><span style=\"font-family:verdana; font-size:25px\">Team Performance</span></center>\n",
    "\n",
    "<p><center><span style=\"font-family:georgia; font-size:15px\">Want to see how your favorite team has been performing over the last few years?</span></center></p>\n",
    "\n",
    "<p><center><span style=\"font-family:georgia; font-size:15px\">Select the start and end year, and the team of your choice! </span></center></p>\n",
    "\n",
    "<p><center><span style=\"font-family:georgia; font-size:15px\">This graph gives us a trend of how a team has been performing given a range. This can help in giving potential information about team improvement - maybe they made their cars faster over a few years! </span></center></p>"
   ]
  },
  {
   "cell_type": "code",
   "execution_count": 123,
   "id": "b4d7862f",
   "metadata": {
    "extensions": {
     "jupyter_dashboards": {
      "version": 1,
      "views": {
       "default_view": {
        "col": 4,
        "height": 13,
        "row": 180,
        "width": 6
       }
      }
     }
    }
   },
   "outputs": [
    {
     "data": {
      "application/vnd.jupyter.widget-view+json": {
       "model_id": "840d57a2aeaf40e3a538c64787ef7bec",
       "version_major": 2,
       "version_minor": 0
      },
      "text/plain": [
       "interactive(children=(Dropdown(description='year_1', options=(1956, 1958, 1959, 1960, 1961, 1962, 1963, 1964, …"
      ]
     },
     "metadata": {},
     "output_type": "display_data"
    }
   ],
   "source": [
    "@widgets.interact(year_1 = df_constructors_result['year'].sort_values().unique(),\n",
    "                 year_2 = df_constructors_result['year'].sort_values().unique())\n",
    "def choose_year(year_1, year_2):\n",
    "    \n",
    "    df_constructors_results_years = df_constructors_result[df_constructors_result['year'].isin(list(range(year_1, year_2+1)))]\n",
    "    \n",
    "            \n",
    "    team = interactive(plot_teams, df_constructors_results_years=fixed(df_constructors_results_years),\n",
    "                            team = df_constructors_results_years['constructor_name'].unique())\n",
    "    display(team)"
   ]
  },
  {
   "cell_type": "code",
   "execution_count": 124,
   "id": "e632a692",
   "metadata": {
    "extensions": {
     "jupyter_dashboards": {
      "version": 1,
      "views": {
       "default_view": {
        "hidden": true
       }
      }
     }
    }
   },
   "outputs": [],
   "source": [
    "# exploring qualifying.csv and pit_stops.csv\n",
    "df_qualifying = pd.read_csv(os.path.join(data_path, \"qualifying.csv\"))\n",
    "df_pit_stops = pd.read_csv(os.path.join(data_path, \"pit_stops.csv\")) "
   ]
  },
  {
   "cell_type": "code",
   "execution_count": 125,
   "id": "8a686deb",
   "metadata": {
    "extensions": {
     "jupyter_dashboards": {
      "version": 1,
      "views": {
       "default_view": {
        "hidden": true
       }
      }
     }
    }
   },
   "outputs": [],
   "source": [
    "df_qualifying = df_qualifying.merge(df_races[[\"raceId\", \"name\", \"year\"]], on=\"raceId\")\n",
    "df_qualifying = df_qualifying.merge(df_drivers[[\"driverId\", \"full_name\"]], on=\"driverId\")"
   ]
  },
  {
   "cell_type": "code",
   "execution_count": 126,
   "id": "f5895413",
   "metadata": {
    "extensions": {
     "jupyter_dashboards": {
      "version": 1,
      "views": {
       "default_view": {
        "hidden": true
       }
      }
     }
    }
   },
   "outputs": [],
   "source": [
    "#df_qualifying = df_qualifying.replace(r'\\\\N', \"0\" , regex=True)"
   ]
  },
  {
   "cell_type": "code",
   "execution_count": 127,
   "id": "b936cacd",
   "metadata": {
    "extensions": {
     "jupyter_dashboards": {
      "version": 1,
      "views": {
       "default_view": {
        "hidden": true
       }
      }
     }
    }
   },
   "outputs": [],
   "source": [
    "df_qualifying['q1'] = df_qualifying['q1'].replace(r'\\\\N', \"0:0.0\" , regex=True)\n",
    "df_qualifying['q2'] = df_qualifying['q2'].replace(r'\\\\N', \"0:0.0\" , regex=True)\n",
    "df_qualifying['q3'] = df_qualifying['q3'].replace(r'\\\\N', \"0:0.0\" , regex=True)"
   ]
  },
  {
   "cell_type": "code",
   "execution_count": 128,
   "id": "9881b27d",
   "metadata": {
    "extensions": {
     "jupyter_dashboards": {
      "version": 1,
      "views": {
       "default_view": {
        "hidden": true
       }
      }
     }
    }
   },
   "outputs": [],
   "source": [
    "def plot_quals(df_qualifying_years, driver, race):\n",
    "    \n",
    "    df_qualifying_race = df_qualifying_years[df_qualifying_years['name'] == race]\n",
    "    df_qualifying_driver = df_qualifying_race[df_qualifying_race['full_name'] == driver]\n",
    "\n",
    "    df_qualifying_driver['q1'] = df_qualifying_driver['q1'].apply(lambda x: datetime.strptime(x, '%M:%S.%f'))\n",
    "    df_qualifying_driver['q2'] = df_qualifying_driver['q2'].apply(lambda x: datetime.strptime(x, '%M:%S.%f'))\n",
    "    df_qualifying_driver['q3'] = df_qualifying_driver['q3'].apply(lambda x: datetime.strptime(x, '%M:%S.%f'))\n",
    "    \n",
    "    # create bar chart\n",
    "    fig, ax = plt.subplots(dpi=100)\n",
    "    ax.plot(df_qualifying_driver['year'], df_qualifying_driver['q1'], label='q1')\n",
    "    ax.plot(df_qualifying_driver['year'], df_qualifying_driver['q2'], label='q2')\n",
    "    ax.plot(df_qualifying_driver['year'], df_qualifying_driver['q3'], label='q3')\n",
    "    ax.set_xticks(df_qualifying_driver['year']);\n",
    "    ax.set_xlabel(\"Year\")\n",
    "    ax.set_ylabel(\"Lap Times HH:MM:SS\")\n",
    "    # ax.set_title(\"Lewis Hamilton: Qualifying Lap Times at the Australian Grand Prix\")\n",
    "    ax.legend();"
   ]
  },
  {
   "cell_type": "markdown",
   "id": "9ba200c3",
   "metadata": {
    "extensions": {
     "jupyter_dashboards": {
      "version": 1,
      "views": {
       "default_view": {
        "col": 0,
        "height": 6,
        "row": 42,
        "width": 12
       }
      }
     }
    }
   },
   "source": [
    "<center><span style=\"font-family:verdana; font-size:25px\">Qualifying Lap Time</span></center>\n",
    "\n",
    "<p><center><span style=\"font-family:georgia; font-size:15px\">In every race (a Grand Prix) there are 4 sessions - Qualifying 1, 2, 3 and the main race. The drivers' position on the grid for the main race is decided by the lap times during the qualifying sessions. The driver who goes fastest is first on the grid, and so on. </span></center></p>\n",
    "\n",
    "<p><center><span style=\"font-family:georgia; font-size:15px\">Select the start and end year, the driver, and the grand prix choice! </span></center></p>\n",
    "\n",
    "<p><center><span style=\"font-family:georgia; font-size:15px\">This graph helps us visualize how the lap times during the qualifying sessions for a given circuit varied over time. If the lap times reduce over the years, we could say that the car has become faster and if the lap times increase we can say the car has slowed down.. </span></center></p>"
   ]
  },
  {
   "cell_type": "code",
   "execution_count": 129,
   "id": "683c887a",
   "metadata": {
    "extensions": {
     "jupyter_dashboards": {
      "version": 1,
      "views": {
       "default_view": {
        "col": 3,
        "height": 15,
        "row": 48,
        "width": 9
       }
      }
     }
    }
   },
   "outputs": [
    {
     "data": {
      "application/vnd.jupyter.widget-view+json": {
       "model_id": "a96c10e4ae4146529d4017eb213a2990",
       "version_major": 2,
       "version_minor": 0
      },
      "text/plain": [
       "interactive(children=(Dropdown(description='year_1', options=(1994, 1995, 1996, 1997, 1998, 1999, 2000, 2001, …"
      ]
     },
     "metadata": {},
     "output_type": "display_data"
    }
   ],
   "source": [
    "@widgets.interact(year_1 = df_qualifying['year'].sort_values().unique(),\n",
    "                 year_2 = df_qualifying['year'].sort_values().unique())\n",
    "def choose_year(year_1, year_2):\n",
    "    \n",
    "    df_qualifying_years = df_qualifying[df_qualifying['year'].isin(list(range(year_1, year_2+1)))]\n",
    "    \n",
    "            \n",
    "    team = interactive(plot_quals, df_qualifying_years=fixed(df_qualifying_years),\n",
    "                            driver = df_qualifying_years['full_name'].unique(),\n",
    "                              race = df_qualifying_years['name'].unique())\n",
    "    display(team)"
   ]
  },
  {
   "cell_type": "markdown",
   "id": "758d7e27",
   "metadata": {
    "extensions": {
     "jupyter_dashboards": {
      "version": 1,
      "views": {
       "default_view": {
        "col": 0,
        "height": 5,
        "row": 88,
        "width": 12
       }
      }
     }
    }
   },
   "source": [
    "<center><span style=\"font-family:verdana; font-size:25px\">Who's the best driver of all time?</span></center>\n",
    "\n",
    "<p><center><span style=\"font-family:georgia; font-size:15px\">Let's take a look at who's been winning the most in ALL of Formula 1!</span></center></p>\n",
    "\n",
    "<p><center><span style=\"font-family:georgia; font-size:15px\">The current champion is Lewis Hamilton! He was able to surpass Michael Schumachers' record of 91 wins during his career!</span></center></p>\n",
    "\n",
    "<p><center><span style=\"font-family:georgia; font-size:14px\">This graph gives us an overview of who's the best driver in all of Formula 1, based on the number of times they've finished a Grand Prix in first place! </span></center></p>"
   ]
  },
  {
   "cell_type": "code",
   "execution_count": 130,
   "id": "faef86ca",
   "metadata": {
    "extensions": {
     "jupyter_dashboards": {
      "version": 1,
      "views": {
       "default_view": {
        "hidden": true
       }
      }
     }
    }
   },
   "outputs": [],
   "source": [
    "df_wins = pd.DataFrame(columns=['full_name', 'wins'])"
   ]
  },
  {
   "cell_type": "code",
   "execution_count": 131,
   "id": "2d798843",
   "metadata": {
    "extensions": {
     "jupyter_dashboards": {
      "version": 1,
      "views": {
       "default_view": {
        "hidden": true
       }
      }
     }
    }
   },
   "outputs": [],
   "source": [
    "for name in df_standings['full_name'].unique():\n",
    "    total_wins = df_standings[df_standings['full_name'] == name].groupby(\"year\")[\"wins\"].max().sum()\n",
    "    to_add = {'full_name': name, 'wins': total_wins}\n",
    "    \n",
    "    df_wins = df_wins.append(to_add, ignore_index=True)"
   ]
  },
  {
   "cell_type": "code",
   "execution_count": 132,
   "id": "39d302da",
   "metadata": {
    "extensions": {
     "jupyter_dashboards": {
      "version": 1,
      "views": {
       "default_view": {
        "hidden": true
       }
      }
     }
    }
   },
   "outputs": [],
   "source": [
    "df_wins.sort_values(by=\"wins\", ascending=False, inplace=True)\n",
    "df_wins = df_wins[df_wins['wins'] > 2]"
   ]
  },
  {
   "cell_type": "code",
   "execution_count": 133,
   "id": "8ef0579e",
   "metadata": {
    "extensions": {
     "jupyter_dashboards": {
      "version": 1,
      "views": {
       "default_view": {
        "col": 1,
        "height": 24,
        "row": 93,
        "width": 10
       }
      }
     }
    }
   },
   "outputs": [
    {
     "data": {
      "image/png": "[encoded data removed]",
      "text/plain": [
       "<Figure size 1200x800 with 1 Axes>"
      ]
     },
     "metadata": {
      "needs_background": "light"
     },
     "output_type": "display_data"
    }
   ],
   "source": [
    "fig, ax = plt.subplots(dpi=200)\n",
    "ax.bar(df_wins['full_name'].values, df_wins['wins'].values)\n",
    "ax.set_xticklabels(df_wins['full_name'], rotation=90, fontsize=4)\n",
    "ax.set_xlabel(\"DRIVER NAME\")\n",
    "ax.set_ylabel(\"TOTAL CAREER WINS\");\n",
    "#ax.set_title(\"CAREER WINS (for drivers with more than 2 wins)\");"
   ]
  },
  {
   "cell_type": "code",
   "execution_count": 134,
   "id": "bae734e2",
   "metadata": {
    "extensions": {
     "jupyter_dashboards": {
      "version": 1,
      "views": {
       "default_view": {
        "hidden": true
       }
      }
     }
    }
   },
   "outputs": [],
   "source": [
    "# constructor wins\n",
    "df_constructors_standing = pd.read_csv(os.path.join(data_path, \"constructor_standings.csv\"))\n",
    "df_constructors_standing = df_constructors_standing.merge(df_constructors[['constructorId', 'name']], on='constructorId')\n",
    "df_constructors_standing = df_constructors_standing.merge(df_races[[\"raceId\", \"name\", \"year\"]], on=\"raceId\")"
   ]
  },
  {
   "cell_type": "code",
   "execution_count": 135,
   "id": "1eaa17df",
   "metadata": {
    "extensions": {
     "jupyter_dashboards": {
      "version": 1,
      "views": {
       "default_view": {
        "hidden": true
       }
      }
     }
    }
   },
   "outputs": [],
   "source": [
    "df_constructors_standing.rename(columns={\"name_x\": \"constructor_name\", \"name_y\": \"race_name\"}, inplace=True)"
   ]
  },
  {
   "cell_type": "code",
   "execution_count": 136,
   "id": "28dc17f9",
   "metadata": {
    "extensions": {
     "jupyter_dashboards": {
      "version": 1,
      "views": {
       "default_view": {
        "hidden": true
       }
      }
     }
    }
   },
   "outputs": [],
   "source": [
    "df_constructors_standing.sort_values(by='year', inplace=True)"
   ]
  },
  {
   "cell_type": "code",
   "execution_count": 137,
   "id": "56663ba7",
   "metadata": {
    "extensions": {
     "jupyter_dashboards": {
      "version": 1,
      "views": {
       "default_view": {
        "hidden": true
       }
      }
     }
    }
   },
   "outputs": [],
   "source": [
    "df_constructor_wins = pd.DataFrame(columns=[\"full_name\", \"wins\"])\n",
    "for name in df_constructors_standing['constructor_name'].unique():\n",
    "    wins = df_constructors_standing[df_constructors_standing['constructor_name'] == name].groupby(\"year\")[\"wins\"].max().sum()\n",
    "    to_add = {\"full_name\": name, \"wins\": wins}\n",
    "    df_constructor_wins = df_constructor_wins.append(to_add, ignore_index=True)\n",
    "    \n",
    "df_constructor_wins.sort_values(by=\"wins\", ascending=False, inplace=True)\n",
    "df_constructor_wins = df_constructor_wins[df_constructor_wins['wins'] > 2]"
   ]
  },
  {
   "cell_type": "markdown",
   "id": "fedebfd6",
   "metadata": {
    "extensions": {
     "jupyter_dashboards": {
      "version": 1,
      "views": {
       "default_view": {
        "col": 0,
        "height": 5,
        "row": 117,
        "width": 12
       }
      }
     }
    }
   },
   "source": [
    "<center><span style=\"font-family:verdana; font-size:25px\">Let's talk Constructors</span></center>\n",
    "\n",
    "<p><center><span style=\"font-family:georgia; font-size:15px\">We know that Lewis Hamilton is the best driver (although this is just one persons opinion), but who's the best team?</span> </center></p>\n",
    "\n",
    "<p><center><span style=\"font-family:georgia; font-size:15px\">Ferrari is in the lead and has won constructor points over 200 times! Although, they haven't been doing too well over the past few years.</span></center></p>\n",
    "\n",
    "<p><center><span style=\"font-family:georgia; font-size:15px\">This graph gives us an overview of who's the constructor/team in all of Formula 1, based on the number of times they've gained first place constructor points. </span></center></p>"
   ]
  },
  {
   "cell_type": "code",
   "execution_count": 138,
   "id": "f07c9655",
   "metadata": {
    "extensions": {
     "jupyter_dashboards": {
      "version": 1,
      "views": {
       "default_view": {
        "col": 1,
        "height": 26,
        "row": 122,
        "width": 10
       }
      }
     }
    }
   },
   "outputs": [
    {
     "data": {
      "image/png": "[encoded data removed]",
      "text/plain": [
       "<Figure size 1200x800 with 1 Axes>"
      ]
     },
     "metadata": {
      "needs_background": "light"
     },
     "output_type": "display_data"
    }
   ],
   "source": [
    "fig, ax = plt.subplots(dpi=200)\n",
    "ax.bar(df_constructor_wins['full_name'].values, df_constructor_wins['wins'].values)\n",
    "ax.set_xticklabels(df_constructor_wins['full_name'], rotation=90, fontsize=8)\n",
    "ax.set_xlabel(\"CONSTRUCTOR NAME\")\n",
    "ax.set_ylabel(\"TOTAL WINS\");\n",
    "#ax.set_title(\"CONSTRUCTOR WINS (for teams with more than 2 wins)\");"
   ]
  },
  {
   "cell_type": "code",
   "execution_count": 139,
   "id": "1d1a71aa",
   "metadata": {
    "extensions": {
     "jupyter_dashboards": {
      "version": 1,
      "views": {
       "default_view": {
        "hidden": true
       }
      }
     }
    }
   },
   "outputs": [],
   "source": [
    "# <center><span style=\"font-family:verdana; font-size:25px\">Comparing Teams</span></center>\n",
    "# <p><center><span style=\"font-family:georgia; font-size:15px\">In addition to the drivers gaining points, each constructor (team) gains points after every race too. I guess it's a way of giving them some credit for making a fast car! </span> </center></p>\n",
    "\n",
    "# <p><center><span style=\"font-family:georgia; font-size:15px\">Select the start and end year, and the two teams you want to compare.</span></center></p>\n",
    "\n",
    "# <p><center><span style=\"font-family:georgia; font-size:15px\">This graph compares the performance of teams - by total points each team gains - over a given range of years.</span></center></p>"
   ]
  },
  {
   "cell_type": "code",
   "execution_count": 140,
   "id": "c40b31aa",
   "metadata": {
    "extensions": {
     "jupyter_dashboards": {
      "version": 1,
      "views": {
       "default_view": {
        "hidden": true
       }
      }
     }
    }
   },
   "outputs": [],
   "source": [
    "# global year\n",
    "# def plot_team_versus(df_constructors_results_years, team_1, team_2):\n",
    "    \n",
    "#     global year_1_gl\n",
    "#     global year_2_gl\n",
    "#     df_team_1 = df_constructors_results_years[df_constructors_results_years['constructor_name'] == team_1]\n",
    "#     df_team_2 = df_constructors_results_years[df_constructors_results_years['constructor_name'] == team_2]\n",
    "    \n",
    "#     df_team_1 = df_team_1.groupby(\"year\")[\"points\"].sum()\n",
    "#     df_team_2 = df_team_2.groupby(\"year\")[\"points\"].sum()\n",
    "    \n",
    "    \n",
    "#     year_1 = []\n",
    "#     points_1 = []\n",
    "#     for k, v in df_team_1.items():\n",
    "#         year_1.append(k)\n",
    "#         points_1.append(v)\n",
    "        \n",
    "#     year_2 = []\n",
    "#     points_2 = []\n",
    "#     for k, v in df_team_2.items():\n",
    "#         year_2.append(k)\n",
    "#         points_2.append(v)\n",
    "        \n",
    "#     fig, ax = plt.subplots(dpi=100)\n",
    "#     ax.fill_between(year_1, points_1, alpha=0.25, label=team_1)\n",
    "#     ax.plot(year_1, points_1, alpha=0.25)\n",
    "#     ax.fill_between(year_2, points_2, alpha=0.25, label=team_2)\n",
    "#     ax.plot(year_2, points_2, alpha=0.25)\n",
    "    \n",
    "#     ax.set_xlabel(\"YEAR\")\n",
    "#     ax.set_ylabel(\"SEASON POINTS\")\n",
    "#     ax.set_xticklabels(list(range(year_1_gl, year_2_gl+1)), rotation=90)\n",
    "    \n",
    "#     ax.legend()\n",
    "        "
   ]
  },
  {
   "cell_type": "code",
   "execution_count": 141,
   "id": "68c30b8a",
   "metadata": {
    "extensions": {
     "jupyter_dashboards": {
      "version": 1,
      "views": {
       "default_view": {
        "hidden": true
       }
      }
     }
    },
    "scrolled": false
   },
   "outputs": [],
   "source": [
    "# # comparing teams\n",
    "# global year_1_gl\n",
    "# global year_2_gl\n",
    "# @widgets.interact(year_1 = df_constructors_result['year'].sort_values(ascending=True).unique(),\n",
    "#                  year_2 = df_constructors_result['year'].sort_values(ascending=False).unique())\n",
    "# def choose_year_teams(year_1, year_2):\n",
    "    \n",
    "#     global year_1_gl\n",
    "#     global year_2_gl\n",
    "    \n",
    "#     year_1_gl = year_1\n",
    "#     year_2_gl = year_2\n",
    "#     df_constructors_results_years = df_constructors_result[df_constructors_result['year'].isin(list(range(year_1, year_2+1)))]\n",
    "    \n",
    "            \n",
    "#     team = interactive(plot_team_versus, df_constructors_results_years=fixed(df_constructors_results_years),\n",
    "#                             team_1 = df_constructors_results_years['constructor_name'].sort_values(ascending=True).unique(),\n",
    "#                             team_2 = df_constructors_results_years['constructor_name'].sort_values(ascending=False).unique())\n",
    "#     display(team)"
   ]
  }
 ],
 "metadata": {
  "extensions": {
   "jupyter_dashboards": {
    "activeView": "default_view",
    "version": 1,
    "views": {
     "default_view": {
      "cellMargin": 10,
      "defaultCellHeight": 40,
      "maxColumns": 12,
      "name": "active_view",
      "type": "grid"
     }
    }
   }
  },
  "kernelspec": {
   "display_name": "Python 3 (ipykernel)",
   "language": "python",
   "name": "python3"
  },
  "language_info": {
   "codemirror_mode": {
    "name": "ipython",
    "version": 3
   },
   "file_extension": ".py",
   "mimetype": "text/x-python",
   "name": "python",
   "nbconvert_exporter": "python",
   "pygments_lexer": "ipython3",
   "version": "3.9.7"
  }
 },
 "nbformat": 4,
 "nbformat_minor": 5
}
